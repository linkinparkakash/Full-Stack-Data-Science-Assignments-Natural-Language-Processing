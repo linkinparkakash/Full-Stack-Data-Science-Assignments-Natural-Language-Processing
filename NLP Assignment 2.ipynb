{
 "cells": [
  {
   "cell_type": "code",
   "execution_count": 1,
   "id": "9573cbb1-15d8-4459-ada2-76fe1ee0e077",
   "metadata": {},
   "outputs": [],
   "source": [
    "# 1. What are Corpora?\n",
    "# 2. What are Tokens?\n",
    "# 3. What are Unigrams, Bigrams, Trigrams?\n",
    "# 4. How to generate n-grams from text?\n",
    "# 5. Explain Lemmatization\n",
    "# 6. Explain Stemming\n",
    "# 7. Explain Part-of-speech (POS) tagging\n",
    "# 8. Explain Chunking or shallow parsing\n",
    "# 9. Explain Noun Phrase (NP) chunking\n",
    "# 10. Explain Named Entity Recognition\n",
    "\n",
    "\n",
    "# Ans:\n",
    "# 1. Corpora refer to large and structured collections of text, often used as a dataset for linguistic analysis and natural language \n",
    "# processing tasks.\n",
    "\n",
    "# 2. Tokens are individual units or elements obtained after tokenizing a text. They can be words, characters, or subwords, depending on\n",
    "# the tokenization strategy.\n",
    "\n",
    "# 3. Unigrams, bigrams, and trigrams are types of n-grams. Unigrams refer to single words, bigrams refer to pairs of consecutive words, \n",
    "# and trigrams refer to triplets of consecutive words.\n",
    "\n",
    "# 4. N-grams can be generated from text by splitting the text into chunks of n consecutive words. Each chunk represents an n-gram.\n",
    "\n",
    "# 5. Lemmatization is the process of reducing words to their base or root form, known as the lemma. It helps to normalize words by \n",
    "# considering their morphological variants and brings them to a common form.\n",
    "\n",
    "# 6. Stemming is a process of reducing words to their base form by removing suffixes or prefixes. It is a simpler and more heuristic-based\n",
    "# approach compared to lemmatization.\n",
    "\n",
    "# 7. Part-of-speech (POS) tagging is the process of assigning grammatical labels (such as noun, verb, adjective, etc.) to words in a \n",
    "# sentence. It helps in understanding the syntactic structure and meaning of a sentence.\n",
    "\n",
    "# 8. Chunking, also known as shallow parsing, involves grouping words into meaningful chunks or phrases based on their syntactic structure.\n",
    "# It helps in identifying noun phrases, verb phrases, etc., in a sentence.\n",
    "\n",
    "# 9. Noun Phrase (NP) chunking is a type of chunking that specifically focuses on identifying and extracting noun phrases from a sentence.\n",
    "# It helps in extracting meaningful information about entities and objects.\n",
    "\n",
    "# 10. Named Entity Recognition (NER) is the process of identifying and classifying named entities such as names of persons, \n",
    "# organizations, locations, etc., in text. It helps in extracting important entities and their relationships from unstructured text data."
   ]
  },
  {
   "cell_type": "code",
   "execution_count": null,
   "id": "dcfaf085-65f7-4e62-93f3-d3cc346a0ea8",
   "metadata": {},
   "outputs": [],
   "source": []
  }
 ],
 "metadata": {
  "kernelspec": {
   "display_name": "Python 3 (ipykernel)",
   "language": "python",
   "name": "python3"
  },
  "language_info": {
   "codemirror_mode": {
    "name": "ipython",
    "version": 3
   },
   "file_extension": ".py",
   "mimetype": "text/x-python",
   "name": "python",
   "nbconvert_exporter": "python",
   "pygments_lexer": "ipython3",
   "version": "3.10.6"
  }
 },
 "nbformat": 4,
 "nbformat_minor": 5
}
