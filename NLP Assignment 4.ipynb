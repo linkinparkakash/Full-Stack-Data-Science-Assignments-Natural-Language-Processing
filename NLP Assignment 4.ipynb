{
 "cells": [
  {
   "cell_type": "code",
   "execution_count": 1,
   "id": "d73eef33-45d6-4ae3-a234-33121d9b0e86",
   "metadata": {},
   "outputs": [],
   "source": [
    "# 1. Can you think of a few applications for a sequence-to-sequence RNN? What about a\n",
    "# sequence-to-vector RNN? And a vector-to-sequence RNN?\n",
    "# 2. Why do people use encoder–decoder RNNs rather than plain sequence-to-sequence RNNs for automatic translation?\n",
    "# 3. How could you combine a convolutional neural network with an RNN to classify videos?\n",
    "# 4. What are the advantages of building an RNN using dynamic_rnn() rather than static_rnn()?\n",
    "# 5. How can you deal with variable-length input sequences? What about variable-length output sequences?\n",
    "# 6. What is a common way to distribute training and execution of a deep RNN across multiple GPUs?\n",
    "\n",
    "# Ans:\n",
    "# 1. Applications for sequence-to-sequence RNN:\n",
    "# Machine translation\n",
    "# Text summarization\n",
    "# Speech recognition and synthesis\n",
    "# Chatbots and conversational agents\n",
    "# Applications for sequence-to-vector RNN:\n",
    "\n",
    "# Sentiment analysis\n",
    "# Text classification\n",
    "# Document classification\n",
    "# Question answering\n",
    "# Applications for vector-to-sequence RNN:\n",
    "\n",
    "# Image captioning\n",
    "# Music generation\n",
    "# Video description generation\n",
    "# Text-to-speech synthesis\n",
    "\n",
    "# 2. Encoder-decoder RNNs are used for automatic translation because they can handle variable-length input and output sequences. \n",
    "# The encoder encodes the input sequence into a fixed-length context vector, which is then decoded by the decoder to generate the\n",
    "# output sequence. This architecture allows the model to handle different lengths of sentences during translation.\n",
    "\n",
    "# 3. To classify videos using a combination of convolutional neural networks (CNNs) and RNNs, you can use the CNN to extract visual \n",
    "# features from individual frames of the video. These features are then fed into the RNN, such as an LSTM, which takes into account\n",
    "# the temporal dependencies between frames to make predictions or classifications based on the sequence of frames.\n",
    "\n",
    "# 4. The advantage of using dynamic_rnn() over static_rnn() is that dynamic_rnn() can handle variable-length input sequences more\n",
    "# efficiently. It dynamically unrolls the RNN computation graph during training or inference, allowing for flexibility in handling \n",
    "# sequences of different lengths without needing to pad the sequences to a fixed length.\n",
    "\n",
    "# 5. Variable-length input sequences can be handled by using padding or masking techniques. Padding involves adding extra tokens or values \n",
    "# to shorter sequences to match the length of the longest sequence in the batch. Masking, on the other hand, involves marking the valid \n",
    "# elements in the sequences and ignoring the padded elements during computation. Similarly, variable-length output sequences can be\n",
    "# handled using similar padding or masking techniques.\n",
    "\n",
    "# 6. A common way to distribute training and execution of a deep RNN across multiple GPUs is by using data parallelism. The model and\n",
    "# data are replicated across multiple GPUs, and each GPU processes a subset of the training data. The gradients are then synchronized \n",
    "# and averaged across the GPUs to update the model parameters. During execution, the same model can be loaded onto multiple GPUs, and \n",
    "# each GPU processes a different portion of the input sequence in parallel, allowing for faster inference or prediction."
   ]
  },
  {
   "cell_type": "code",
   "execution_count": null,
   "id": "28bc85c0-7e9f-4f99-b03f-655fddf516ad",
   "metadata": {},
   "outputs": [],
   "source": []
  }
 ],
 "metadata": {
  "kernelspec": {
   "display_name": "Python 3 (ipykernel)",
   "language": "python",
   "name": "python3"
  },
  "language_info": {
   "codemirror_mode": {
    "name": "ipython",
    "version": 3
   },
   "file_extension": ".py",
   "mimetype": "text/x-python",
   "name": "python",
   "nbconvert_exporter": "python",
   "pygments_lexer": "ipython3",
   "version": "3.10.6"
  }
 },
 "nbformat": 4,
 "nbformat_minor": 5
}
